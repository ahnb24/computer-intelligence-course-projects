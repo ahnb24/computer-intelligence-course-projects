{
 "cells": [
  {
   "cell_type": "code",
   "execution_count": 44,
   "metadata": {},
   "outputs": [],
   "source": [
    "import numpy as np\n",
    "import pandas as pd\n",
    "from sklearn.model_selection import train_test_split\n",
    "from sklearn.preprocessing import MinMaxScaler\n",
    "from keras.models import Sequential\n",
    "from keras.layers import Dense, Embedding, SimpleRNN, BatchNormalization,Dropout, LSTM, GRU\n",
    "from keras.callbacks import EarlyStopping"
   ]
  },
  {
   "cell_type": "code",
   "execution_count": 45,
   "metadata": {},
   "outputs": [],
   "source": [
    "data = pd.read_csv('daily-minimum-temperatures-in-me.csv')\n",
    "\n",
    "temperature_column = 'Date,\"Daily minimum temperatures in Melbourne, Australia, 1981-1990\"'\n",
    "data[temperature_column] = pd.to_numeric(data[temperature_column], errors='coerce')\n",
    "\n",
    "data = data.dropna(subset=[temperature_column])\n",
    "\n",
    "threshold = 0.5\n",
    "data['label'] = (data[temperature_column] > threshold).astype(int)\n",
    "\n",
    "scaler = MinMaxScaler()\n",
    "data[temperature_column] = scaler.fit_transform(data[temperature_column].values.reshape(-1, 1))\n",
    "\n",
    "temperature_data = data[temperature_column].values\n",
    "labels = data['label'].values\n",
    "\n",
    "sequence_length = 10\n",
    "\n",
    "X, y = [], []\n",
    "\n",
    "for i in range(len(temperature_data) - sequence_length):\n",
    "    seq_x = temperature_data[i:i + sequence_length]\n",
    "    seq_y = labels[i + sequence_length]\n",
    "    X.append(seq_x)\n",
    "    y.append(seq_y)\n",
    "\n",
    "X = np.array(X)\n",
    "y = np.array(y)\n",
    "\n",
    "X_train, X_test, y_train, y_test = train_test_split(X, y, test_size=0.2, random_state=42)\n",
    "\n",
    "X_train = X_train.reshape((X_train.shape[0], X_train.shape[1], 1))\n",
    "X_test = X_test.reshape((X_test.shape[0], X_test.shape[1], 1))"
   ]
  },
  {
   "cell_type": "code",
   "execution_count": 46,
   "metadata": {},
   "outputs": [
    {
     "name": "stdout",
     "output_type": "stream",
     "text": [
      "Epoch 1/50\n",
      "91/91 [==============================] - 6s 40ms/step - loss: 0.5646 - accuracy: 0.7191 - val_loss: 0.2816 - val_accuracy: 0.9986\n",
      "Epoch 2/50\n",
      "91/91 [==============================] - 4s 40ms/step - loss: 0.2166 - accuracy: 0.9642 - val_loss: 0.0714 - val_accuracy: 0.9986\n",
      "Epoch 3/50\n",
      "91/91 [==============================] - 4s 42ms/step - loss: 0.0796 - accuracy: 0.9969 - val_loss: 0.0335 - val_accuracy: 0.9986\n",
      "Epoch 4/50\n",
      "91/91 [==============================] - 4s 43ms/step - loss: 0.0416 - accuracy: 0.9983 - val_loss: 0.0180 - val_accuracy: 0.9986\n",
      "Epoch 5/50\n",
      "91/91 [==============================] - 4s 39ms/step - loss: 0.0260 - accuracy: 0.9986 - val_loss: 0.0131 - val_accuracy: 0.9986\n",
      "Epoch 6/50\n",
      "91/91 [==============================] - 4s 41ms/step - loss: 0.0195 - accuracy: 0.9986 - val_loss: 0.0119 - val_accuracy: 0.9986\n",
      "Epoch 7/50\n",
      "91/91 [==============================] - 4s 40ms/step - loss: 0.0168 - accuracy: 0.9986 - val_loss: 0.0109 - val_accuracy: 0.9986\n",
      "Epoch 8/50\n",
      "91/91 [==============================] - 4s 40ms/step - loss: 0.0153 - accuracy: 0.9986 - val_loss: 0.0115 - val_accuracy: 0.9986\n",
      "Epoch 9/50\n",
      "91/91 [==============================] - 3s 38ms/step - loss: 0.0141 - accuracy: 0.9986 - val_loss: 0.0106 - val_accuracy: 0.9986\n",
      "Epoch 10/50\n",
      "91/91 [==============================] - 3s 37ms/step - loss: 0.0131 - accuracy: 0.9986 - val_loss: 0.0105 - val_accuracy: 0.9986\n",
      "Epoch 11/50\n",
      "91/91 [==============================] - 3s 37ms/step - loss: 0.0126 - accuracy: 0.9986 - val_loss: 0.0106 - val_accuracy: 0.9986\n",
      "Epoch 12/50\n",
      "91/91 [==============================] - 3s 37ms/step - loss: 0.0129 - accuracy: 0.9986 - val_loss: 0.0105 - val_accuracy: 0.9986\n",
      "Epoch 13/50\n",
      "91/91 [==============================] - 3s 37ms/step - loss: 0.0118 - accuracy: 0.9986 - val_loss: 0.0106 - val_accuracy: 0.9986\n",
      "Epoch 14/50\n",
      "91/91 [==============================] - 3s 38ms/step - loss: 0.0126 - accuracy: 0.9986 - val_loss: 0.0105 - val_accuracy: 0.9986\n",
      "Epoch 15/50\n",
      "91/91 [==============================] - 3s 38ms/step - loss: 0.0127 - accuracy: 0.9986 - val_loss: 0.0109 - val_accuracy: 0.9986\n",
      "Epoch 16/50\n",
      "91/91 [==============================] - 3s 38ms/step - loss: 0.0123 - accuracy: 0.9986 - val_loss: 0.0112 - val_accuracy: 0.9986\n",
      "Epoch 17/50\n",
      "91/91 [==============================] - 4s 39ms/step - loss: 0.0098 - accuracy: 0.9986 - val_loss: 0.0118 - val_accuracy: 0.9986\n"
     ]
    }
   ],
   "source": [
    "model = Sequential()\n",
    "model.add(Embedding(20000, 128))\n",
    "model.add(SimpleRNN(128, dropout=0.3, recurrent_dropout=0.4))\n",
    "model.add(BatchNormalization())\n",
    "model.add(Dropout(0.25))\n",
    "model.add(Dense(1, activation=\"sigmoid\"))\n",
    "\n",
    "model.compile(optimizer='adam', loss='binary_crossentropy', metrics=['accuracy'])\n",
    "\n",
    "early_stopping = EarlyStopping(monitor='val_loss', patience=5, restore_best_weights=True)\n",
    "\n",
    "H = model.fit(X_train, y_train, epochs=50, batch_size=32, validation_data=(X_test, y_test), callbacks=[early_stopping])"
   ]
  },
  {
   "cell_type": "code",
   "execution_count": 47,
   "metadata": {},
   "outputs": [
    {
     "name": "stdout",
     "output_type": "stream",
     "text": [
      "23/23 [==============================] - 0s 3ms/step - loss: 0.0105 - accuracy: 0.9986\n",
      "Test accuracy: 0.9986263513565063\n"
     ]
    }
   ],
   "source": [
    "test_loss, test_accuracy = model.evaluate(X_test,y_test)\n",
    "print(\"Test accuracy:\",test_accuracy)"
   ]
  },
  {
   "cell_type": "code",
   "execution_count": 48,
   "metadata": {},
   "outputs": [
    {
     "name": "stdout",
     "output_type": "stream",
     "text": [
      "Epoch 1/50\n",
      "91/91 [==============================] - 10s 57ms/step - loss: 0.3938 - accuracy: 0.9309 - val_loss: 0.1358 - val_accuracy: 0.9986\n",
      "Epoch 2/50\n",
      "91/91 [==============================] - 4s 46ms/step - loss: 0.0652 - accuracy: 0.9986 - val_loss: 0.0300 - val_accuracy: 0.9986\n",
      "Epoch 3/50\n",
      "91/91 [==============================] - 4s 46ms/step - loss: 0.0227 - accuracy: 0.9986 - val_loss: 0.0172 - val_accuracy: 0.9986\n",
      "Epoch 4/50\n",
      "91/91 [==============================] - 4s 45ms/step - loss: 0.0158 - accuracy: 0.9986 - val_loss: 0.0128 - val_accuracy: 0.9986\n",
      "Epoch 5/50\n",
      "91/91 [==============================] - 5s 51ms/step - loss: 0.0134 - accuracy: 0.9986 - val_loss: 0.0114 - val_accuracy: 0.9986\n",
      "Epoch 6/50\n",
      "91/91 [==============================] - 5s 50ms/step - loss: 0.0123 - accuracy: 0.9986 - val_loss: 0.0104 - val_accuracy: 0.9986\n",
      "Epoch 7/50\n",
      "91/91 [==============================] - 4s 49ms/step - loss: 0.0116 - accuracy: 0.9986 - val_loss: 0.0267 - val_accuracy: 0.9986\n",
      "Epoch 8/50\n",
      "91/91 [==============================] - 4s 48ms/step - loss: 0.0121 - accuracy: 0.9986 - val_loss: 0.0105 - val_accuracy: 0.9986\n",
      "Epoch 9/50\n",
      "91/91 [==============================] - 4s 47ms/step - loss: 0.0106 - accuracy: 0.9986 - val_loss: 0.0105 - val_accuracy: 0.9986\n",
      "Epoch 10/50\n",
      "91/91 [==============================] - 5s 55ms/step - loss: 0.0112 - accuracy: 0.9986 - val_loss: 0.0106 - val_accuracy: 0.9986\n",
      "Epoch 11/50\n",
      "91/91 [==============================] - 5s 52ms/step - loss: 0.0112 - accuracy: 0.9986 - val_loss: 0.0105 - val_accuracy: 0.9986\n"
     ]
    }
   ],
   "source": [
    "model = Sequential()\n",
    "model.add(Embedding(20000, 128))\n",
    "model.add(LSTM(128, dropout=0.3, recurrent_dropout=0.4))\n",
    "model.add(BatchNormalization())\n",
    "model.add(Dropout(0.25))\n",
    "model.add(Dense(1, activation=\"sigmoid\"))\n",
    "\n",
    "model.compile(optimizer='adam', loss='binary_crossentropy', metrics=['accuracy'])\n",
    "\n",
    "early_stopping = EarlyStopping(monitor='val_loss', patience=5, restore_best_weights=True)\n",
    "\n",
    "H = model.fit(X_train, y_train, epochs=50, batch_size=32, validation_data=(X_test, y_test), callbacks=[early_stopping])"
   ]
  },
  {
   "cell_type": "code",
   "execution_count": 49,
   "metadata": {},
   "outputs": [
    {
     "name": "stdout",
     "output_type": "stream",
     "text": [
      "23/23 [==============================] - 0s 5ms/step - loss: 0.0104 - accuracy: 0.9986\n",
      "Test accuracy: 0.9986263513565063\n"
     ]
    }
   ],
   "source": [
    "test_loss, test_accuracy = model.evaluate(X_test,y_test)\n",
    "print(\"Test accuracy:\",test_accuracy)"
   ]
  },
  {
   "cell_type": "code",
   "execution_count": 50,
   "metadata": {},
   "outputs": [
    {
     "name": "stdout",
     "output_type": "stream",
     "text": [
      "Epoch 1/50\n",
      "91/91 [==============================] - 9s 50ms/step - loss: 0.4128 - accuracy: 0.9151 - val_loss: 0.1502 - val_accuracy: 0.9986\n",
      "Epoch 2/50\n",
      "91/91 [==============================] - 4s 42ms/step - loss: 0.0754 - accuracy: 0.9986 - val_loss: 0.0344 - val_accuracy: 0.9986\n",
      "Epoch 3/50\n",
      "91/91 [==============================] - 4s 42ms/step - loss: 0.0251 - accuracy: 0.9986 - val_loss: 0.0179 - val_accuracy: 0.9986\n",
      "Epoch 4/50\n",
      "91/91 [==============================] - 4s 43ms/step - loss: 0.0166 - accuracy: 0.9986 - val_loss: 0.0133 - val_accuracy: 0.9986\n",
      "Epoch 5/50\n",
      "91/91 [==============================] - 4s 43ms/step - loss: 0.0135 - accuracy: 0.9986 - val_loss: 0.0116 - val_accuracy: 0.9986\n",
      "Epoch 6/50\n",
      "91/91 [==============================] - 4s 43ms/step - loss: 0.0122 - accuracy: 0.9986 - val_loss: 0.0115 - val_accuracy: 0.9986\n",
      "Epoch 7/50\n",
      "91/91 [==============================] - 4s 44ms/step - loss: 0.0127 - accuracy: 0.9986 - val_loss: 0.0129 - val_accuracy: 0.9986\n",
      "Epoch 8/50\n",
      "91/91 [==============================] - 4s 44ms/step - loss: 0.0107 - accuracy: 0.9986 - val_loss: 0.0104 - val_accuracy: 0.9986\n",
      "Epoch 9/50\n",
      "91/91 [==============================] - 4s 43ms/step - loss: 0.0110 - accuracy: 0.9986 - val_loss: 0.0114 - val_accuracy: 0.9986\n",
      "Epoch 10/50\n",
      "91/91 [==============================] - 4s 43ms/step - loss: 0.0116 - accuracy: 0.9986 - val_loss: 0.0118 - val_accuracy: 0.9986\n",
      "Epoch 11/50\n",
      "91/91 [==============================] - 4s 44ms/step - loss: 0.0112 - accuracy: 0.9986 - val_loss: 0.0110 - val_accuracy: 0.9986\n",
      "Epoch 12/50\n",
      "91/91 [==============================] - 4s 45ms/step - loss: 0.0121 - accuracy: 0.9986 - val_loss: 0.0120 - val_accuracy: 0.9986\n",
      "Epoch 13/50\n",
      "91/91 [==============================] - 4s 44ms/step - loss: 0.0116 - accuracy: 0.9986 - val_loss: 0.0119 - val_accuracy: 0.9986\n"
     ]
    }
   ],
   "source": [
    "model = Sequential()\n",
    "model.add(Embedding(20000, 128))\n",
    "model.add(GRU(128, dropout=0.3, recurrent_dropout=0.4))\n",
    "model.add(BatchNormalization())\n",
    "model.add(Dropout(0.25))\n",
    "model.add(Dense(1, activation=\"sigmoid\"))\n",
    "\n",
    "model.compile(optimizer='adam', loss='binary_crossentropy', metrics=['accuracy'])\n",
    "\n",
    "early_stopping = EarlyStopping(monitor='val_loss', patience=5, restore_best_weights=True)\n",
    "\n",
    "H = model.fit(X_train, y_train, epochs=50, batch_size=32, validation_data=(X_test, y_test), callbacks=[early_stopping])"
   ]
  },
  {
   "cell_type": "code",
   "execution_count": 51,
   "metadata": {},
   "outputs": [
    {
     "name": "stdout",
     "output_type": "stream",
     "text": [
      "23/23 [==============================] - 0s 4ms/step - loss: 0.0104 - accuracy: 0.9986\n",
      "Test accuracy: 0.9986263513565063\n"
     ]
    }
   ],
   "source": [
    "test_loss, test_accuracy = model.evaluate(X_test,y_test)\n",
    "print(\"Test accuracy:\",test_accuracy)"
   ]
  }
 ],
 "metadata": {
  "kernelspec": {
   "display_name": "Python 3",
   "language": "python",
   "name": "python3"
  },
  "language_info": {
   "codemirror_mode": {
    "name": "ipython",
    "version": 3
   },
   "file_extension": ".py",
   "mimetype": "text/x-python",
   "name": "python",
   "nbconvert_exporter": "python",
   "pygments_lexer": "ipython3",
   "version": "3.10.11"
  }
 },
 "nbformat": 4,
 "nbformat_minor": 2
}
