{
  "nbformat": 4,
  "nbformat_minor": 0,
  "metadata": {
    "colab": {
      "provenance": [],
      "gpuType": "T4"
    },
    "kernelspec": {
      "name": "python3",
      "display_name": "Python 3"
    },
    "language_info": {
      "name": "python"
    },
    "accelerator": "GPU"
  },
  "cells": [
    {
      "cell_type": "code",
      "execution_count": 1,
      "metadata": {
        "id": "ow2u6Aw2T7BR"
      },
      "outputs": [],
      "source": [
        "from keras.utils import pad_sequences\n",
        "from keras.models import Sequential\n",
        "from keras.layers import Dense, Embedding, SimpleRNN, BatchNormalization,Dropout, LSTM, GRU, TimeDistributed\n",
        "from keras.datasets import imdb"
      ]
    },
    {
      "cell_type": "code",
      "source": [
        "(x_train,y_train),(x_test,y_test) = imdb.load_data(num_words=20000)\n"
      ],
      "metadata": {
        "id": "FqF1DC-oUElW",
        "colab": {
          "base_uri": "https://localhost:8080/"
        },
        "outputId": "a659f333-e39d-42a1-82a2-44e27d26ba81"
      },
      "execution_count": 2,
      "outputs": [
        {
          "output_type": "stream",
          "name": "stdout",
          "text": [
            "Downloading data from https://storage.googleapis.com/tensorflow/tf-keras-datasets/imdb.npz\n",
            "17464789/17464789 [==============================] - 0s 0us/step\n"
          ]
        }
      ]
    },
    {
      "cell_type": "code",
      "source": [
        "x_train = pad_sequences(x_train, maxlen=80)\n",
        "x_test = pad_sequences(x_test, maxlen=80)"
      ],
      "metadata": {
        "id": "oM1wFpnQUF8V"
      },
      "execution_count": 3,
      "outputs": []
    },
    {
      "cell_type": "code",
      "source": [
        "model = Sequential()\n",
        "model.add(Embedding(20000, 128))\n",
        "model.add(SimpleRNN(128, dropout=0.3, recurrent_dropout=0.4))\n",
        "model.add(BatchNormalization())\n",
        "model.add(Dropout(0.25))\n",
        "model.add(Dense(1, activation=\"sigmoid\"))\n"
      ],
      "metadata": {
        "id": "vM6ITvlbvE1h"
      },
      "execution_count": 4,
      "outputs": []
    },
    {
      "cell_type": "code",
      "source": [
        "model.compile(loss = \"binary_crossentropy\", optimizer = \"adam\", metrics= [\"accuracy\"])"
      ],
      "metadata": {
        "id": "WKjPeZ6uvFiR"
      },
      "execution_count": 5,
      "outputs": []
    },
    {
      "cell_type": "code",
      "source": [
        "H = model.fit(x_train,y_train,validation_data=(x_test,y_test), epochs=50, batch_size= 128)"
      ],
      "metadata": {
        "colab": {
          "base_uri": "https://localhost:8080/"
        },
        "id": "EtqIfqs4vHxr",
        "outputId": "fd0a53f6-744e-4383-8237-f15845d8fd11"
      },
      "execution_count": 6,
      "outputs": [
        {
          "output_type": "stream",
          "name": "stdout",
          "text": [
            "Epoch 1/50\n",
            "196/196 [==============================] - 48s 190ms/step - loss: 0.8309 - accuracy: 0.5024 - val_loss: 0.6907 - val_accuracy: 0.5248\n",
            "Epoch 2/50\n",
            "196/196 [==============================] - 26s 133ms/step - loss: 0.7229 - accuracy: 0.5070 - val_loss: 0.6918 - val_accuracy: 0.5130\n",
            "Epoch 3/50\n",
            "196/196 [==============================] - 24s 125ms/step - loss: 0.7017 - accuracy: 0.5084 - val_loss: 0.6908 - val_accuracy: 0.5323\n",
            "Epoch 4/50\n",
            "196/196 [==============================] - 24s 124ms/step - loss: 0.6957 - accuracy: 0.5101 - val_loss: 0.6916 - val_accuracy: 0.5181\n",
            "Epoch 5/50\n",
            "196/196 [==============================] - 23s 117ms/step - loss: 0.6939 - accuracy: 0.5121 - val_loss: 0.6924 - val_accuracy: 0.5119\n",
            "Epoch 6/50\n",
            "196/196 [==============================] - 22s 111ms/step - loss: 0.6929 - accuracy: 0.5147 - val_loss: 0.6917 - val_accuracy: 0.5121\n",
            "Epoch 7/50\n",
            "196/196 [==============================] - 23s 116ms/step - loss: 0.6930 - accuracy: 0.5145 - val_loss: 0.6908 - val_accuracy: 0.5366\n",
            "Epoch 8/50\n",
            "196/196 [==============================] - 24s 121ms/step - loss: 0.6932 - accuracy: 0.5147 - val_loss: 0.6905 - val_accuracy: 0.5328\n",
            "Epoch 9/50\n",
            "196/196 [==============================] - 22s 110ms/step - loss: 0.6927 - accuracy: 0.5181 - val_loss: 0.6909 - val_accuracy: 0.5086\n",
            "Epoch 10/50\n",
            "196/196 [==============================] - 21s 109ms/step - loss: 0.6920 - accuracy: 0.5235 - val_loss: 0.6901 - val_accuracy: 0.5314\n",
            "Epoch 11/50\n",
            "196/196 [==============================] - 22s 113ms/step - loss: 0.6919 - accuracy: 0.5215 - val_loss: 0.6913 - val_accuracy: 0.5247\n",
            "Epoch 12/50\n",
            "196/196 [==============================] - 23s 117ms/step - loss: 0.6917 - accuracy: 0.5245 - val_loss: 0.6920 - val_accuracy: 0.5110\n",
            "Epoch 13/50\n",
            "196/196 [==============================] - 22s 115ms/step - loss: 0.6913 - accuracy: 0.5192 - val_loss: 0.6888 - val_accuracy: 0.5306\n",
            "Epoch 14/50\n",
            "196/196 [==============================] - 23s 117ms/step - loss: 0.6887 - accuracy: 0.5323 - val_loss: 0.6857 - val_accuracy: 0.5426\n",
            "Epoch 15/50\n",
            "196/196 [==============================] - 25s 128ms/step - loss: 0.6864 - accuracy: 0.5418 - val_loss: 0.6832 - val_accuracy: 0.5699\n",
            "Epoch 16/50\n",
            "196/196 [==============================] - 22s 112ms/step - loss: 0.6837 - accuracy: 0.5446 - val_loss: 0.6829 - val_accuracy: 0.5239\n",
            "Epoch 17/50\n",
            "196/196 [==============================] - 21s 106ms/step - loss: 0.6767 - accuracy: 0.5604 - val_loss: 0.6743 - val_accuracy: 0.5392\n",
            "Epoch 18/50\n",
            "196/196 [==============================] - 23s 120ms/step - loss: 0.6673 - accuracy: 0.5781 - val_loss: 0.6544 - val_accuracy: 0.5936\n",
            "Epoch 19/50\n",
            "196/196 [==============================] - 22s 113ms/step - loss: 0.6438 - accuracy: 0.6136 - val_loss: 0.6652 - val_accuracy: 0.5758\n",
            "Epoch 20/50\n",
            "196/196 [==============================] - 22s 112ms/step - loss: 0.6212 - accuracy: 0.6444 - val_loss: 0.8657 - val_accuracy: 0.5308\n",
            "Epoch 21/50\n",
            "196/196 [==============================] - 21s 105ms/step - loss: 0.5865 - accuracy: 0.6770 - val_loss: 0.6939 - val_accuracy: 0.6307\n",
            "Epoch 22/50\n",
            "196/196 [==============================] - 22s 115ms/step - loss: 0.5557 - accuracy: 0.7049 - val_loss: 0.6565 - val_accuracy: 0.6797\n",
            "Epoch 23/50\n",
            "196/196 [==============================] - 22s 115ms/step - loss: 0.5878 - accuracy: 0.6794 - val_loss: 0.5970 - val_accuracy: 0.6745\n",
            "Epoch 24/50\n",
            "196/196 [==============================] - 21s 109ms/step - loss: 0.5432 - accuracy: 0.7209 - val_loss: 0.5165 - val_accuracy: 0.7423\n",
            "Epoch 25/50\n",
            "196/196 [==============================] - 24s 122ms/step - loss: 0.5006 - accuracy: 0.7566 - val_loss: 0.4873 - val_accuracy: 0.7684\n",
            "Epoch 26/50\n",
            "196/196 [==============================] - 22s 115ms/step - loss: 0.5210 - accuracy: 0.7361 - val_loss: 0.5678 - val_accuracy: 0.7095\n",
            "Epoch 27/50\n",
            "196/196 [==============================] - 24s 120ms/step - loss: 0.5039 - accuracy: 0.7530 - val_loss: 0.5284 - val_accuracy: 0.7310\n",
            "Epoch 28/50\n",
            "196/196 [==============================] - 21s 109ms/step - loss: 0.4680 - accuracy: 0.7821 - val_loss: 0.5646 - val_accuracy: 0.7523\n",
            "Epoch 29/50\n",
            "196/196 [==============================] - 22s 113ms/step - loss: 0.4667 - accuracy: 0.7788 - val_loss: 0.6101 - val_accuracy: 0.7508\n",
            "Epoch 30/50\n",
            "196/196 [==============================] - 22s 115ms/step - loss: 0.4291 - accuracy: 0.8108 - val_loss: 0.5727 - val_accuracy: 0.7634\n",
            "Epoch 31/50\n",
            "196/196 [==============================] - 23s 118ms/step - loss: 0.3925 - accuracy: 0.8304 - val_loss: 0.6265 - val_accuracy: 0.7566\n",
            "Epoch 32/50\n",
            "196/196 [==============================] - 22s 112ms/step - loss: 0.3924 - accuracy: 0.8335 - val_loss: 0.5698 - val_accuracy: 0.7504\n",
            "Epoch 33/50\n",
            "196/196 [==============================] - 23s 115ms/step - loss: 0.5630 - accuracy: 0.7055 - val_loss: 0.6201 - val_accuracy: 0.6832\n",
            "Epoch 34/50\n",
            "196/196 [==============================] - 24s 124ms/step - loss: 0.5046 - accuracy: 0.7504 - val_loss: 0.5785 - val_accuracy: 0.6923\n",
            "Epoch 35/50\n",
            "196/196 [==============================] - 23s 117ms/step - loss: 0.4367 - accuracy: 0.8010 - val_loss: 0.4871 - val_accuracy: 0.7840\n",
            "Epoch 36/50\n",
            "196/196 [==============================] - 21s 107ms/step - loss: 0.4008 - accuracy: 0.8249 - val_loss: 0.5152 - val_accuracy: 0.7734\n",
            "Epoch 37/50\n",
            "196/196 [==============================] - 23s 118ms/step - loss: 0.4098 - accuracy: 0.8243 - val_loss: 0.6166 - val_accuracy: 0.6948\n",
            "Epoch 38/50\n",
            "196/196 [==============================] - 22s 113ms/step - loss: 0.4066 - accuracy: 0.8199 - val_loss: 0.5432 - val_accuracy: 0.7787\n",
            "Epoch 39/50\n",
            "196/196 [==============================] - 22s 113ms/step - loss: 0.3839 - accuracy: 0.8388 - val_loss: 1.2982 - val_accuracy: 0.5942\n",
            "Epoch 40/50\n",
            "196/196 [==============================] - 21s 105ms/step - loss: 0.5684 - accuracy: 0.7088 - val_loss: 0.7271 - val_accuracy: 0.6433\n",
            "Epoch 41/50\n",
            "196/196 [==============================] - 22s 114ms/step - loss: 0.4993 - accuracy: 0.7552 - val_loss: 0.7497 - val_accuracy: 0.7564\n",
            "Epoch 42/50\n",
            "196/196 [==============================] - 22s 112ms/step - loss: 0.5472 - accuracy: 0.7268 - val_loss: 0.6397 - val_accuracy: 0.6759\n",
            "Epoch 43/50\n",
            "196/196 [==============================] - 21s 105ms/step - loss: 0.4829 - accuracy: 0.7747 - val_loss: 0.6802 - val_accuracy: 0.7016\n",
            "Epoch 44/50\n",
            "196/196 [==============================] - 22s 113ms/step - loss: 0.4297 - accuracy: 0.8080 - val_loss: 0.5917 - val_accuracy: 0.7332\n",
            "Epoch 45/50\n",
            "196/196 [==============================] - 22s 111ms/step - loss: 0.4546 - accuracy: 0.7908 - val_loss: 0.5521 - val_accuracy: 0.7450\n",
            "Epoch 46/50\n",
            "196/196 [==============================] - 21s 106ms/step - loss: 0.3901 - accuracy: 0.8357 - val_loss: 0.5632 - val_accuracy: 0.7622\n",
            "Epoch 47/50\n",
            "196/196 [==============================] - 23s 116ms/step - loss: 0.4184 - accuracy: 0.8226 - val_loss: 0.6079 - val_accuracy: 0.7046\n",
            "Epoch 48/50\n",
            "196/196 [==============================] - 22s 114ms/step - loss: 0.4688 - accuracy: 0.7809 - val_loss: 0.5792 - val_accuracy: 0.7238\n",
            "Epoch 49/50\n",
            "196/196 [==============================] - 21s 106ms/step - loss: 0.4282 - accuracy: 0.8087 - val_loss: 0.5617 - val_accuracy: 0.7394\n",
            "Epoch 50/50\n",
            "196/196 [==============================] - 22s 112ms/step - loss: 0.4128 - accuracy: 0.8196 - val_loss: 0.5591 - val_accuracy: 0.7507\n"
          ]
        }
      ]
    },
    {
      "cell_type": "code",
      "source": [
        "test_loss, test_accuracy = model.evaluate(x_test,y_test)\n",
        "print(\"Test accuracy:\",test_accuracy)"
      ],
      "metadata": {
        "colab": {
          "base_uri": "https://localhost:8080/"
        },
        "id": "Rv0HgaH-vMGR",
        "outputId": "39d4a90f-b83e-49a2-86e4-cfe46166b907"
      },
      "execution_count": 7,
      "outputs": [
        {
          "output_type": "stream",
          "name": "stdout",
          "text": [
            "782/782 [==============================] - 6s 8ms/step - loss: 0.5591 - accuracy: 0.7507\n",
            "Test accuracy: 0.7507200241088867\n"
          ]
        }
      ]
    },
    {
      "cell_type": "code",
      "source": [
        "model = Sequential()\n",
        "model.add(Embedding(20000, 128))\n",
        "model.add(LSTM(128, dropout=0.5, recurrent_dropout=0.5))\n",
        "model.add(BatchNormalization())\n",
        "model.add(Dropout(0.5))\n",
        "model.add(Dense(1, activation=\"sigmoid\"))\n"
      ],
      "metadata": {
        "colab": {
          "base_uri": "https://localhost:8080/"
        },
        "id": "e1bC3M16UG8P",
        "outputId": "d0a51274-cf28-4ba9-a5bf-a3bf3884b40a"
      },
      "execution_count": 8,
      "outputs": [
        {
          "output_type": "stream",
          "name": "stderr",
          "text": [
            "WARNING:tensorflow:Layer lstm will not use cuDNN kernels since it doesn't meet the criteria. It will use a generic GPU kernel as fallback when running on GPU.\n"
          ]
        }
      ]
    },
    {
      "cell_type": "code",
      "source": [
        "model.compile(loss = \"binary_crossentropy\", optimizer = \"adam\", metrics= [\"accuracy\"])"
      ],
      "metadata": {
        "id": "x3NjMB7AUJ5Q"
      },
      "execution_count": 9,
      "outputs": []
    },
    {
      "cell_type": "code",
      "source": [
        "H = model.fit(x_train,y_train,validation_data=(x_test,y_test), epochs=50, batch_size= 128)"
      ],
      "metadata": {
        "colab": {
          "base_uri": "https://localhost:8080/"
        },
        "id": "e7y2_XBZULYo",
        "outputId": "346899d8-285d-44d9-8f54-b0984695f4ba"
      },
      "execution_count": 10,
      "outputs": [
        {
          "output_type": "stream",
          "name": "stdout",
          "text": [
            "Epoch 1/50\n",
            "196/196 [==============================] - 72s 344ms/step - loss: 0.4931 - accuracy: 0.7520 - val_loss: 0.5543 - val_accuracy: 0.8300\n",
            "Epoch 2/50\n",
            "196/196 [==============================] - 57s 291ms/step - loss: 0.2924 - accuracy: 0.8766 - val_loss: 0.3877 - val_accuracy: 0.8286\n",
            "Epoch 3/50\n",
            "196/196 [==============================] - 57s 290ms/step - loss: 0.2182 - accuracy: 0.9132 - val_loss: 0.5243 - val_accuracy: 0.7964\n",
            "Epoch 4/50\n",
            "196/196 [==============================] - 55s 281ms/step - loss: 0.1647 - accuracy: 0.9371 - val_loss: 0.4966 - val_accuracy: 0.8033\n",
            "Epoch 5/50\n",
            "196/196 [==============================] - 55s 283ms/step - loss: 0.1310 - accuracy: 0.9506 - val_loss: 0.5557 - val_accuracy: 0.8177\n",
            "Epoch 6/50\n",
            "196/196 [==============================] - 54s 276ms/step - loss: 0.1018 - accuracy: 0.9622 - val_loss: 0.5920 - val_accuracy: 0.8146\n",
            "Epoch 7/50\n",
            "196/196 [==============================] - 53s 269ms/step - loss: 0.0842 - accuracy: 0.9707 - val_loss: 0.7078 - val_accuracy: 0.8014\n",
            "Epoch 8/50\n",
            "196/196 [==============================] - 52s 268ms/step - loss: 0.0606 - accuracy: 0.9779 - val_loss: 0.6896 - val_accuracy: 0.8018\n",
            "Epoch 9/50\n",
            "196/196 [==============================] - 55s 282ms/step - loss: 0.0617 - accuracy: 0.9784 - val_loss: 0.8507 - val_accuracy: 0.7850\n",
            "Epoch 10/50\n",
            "196/196 [==============================] - 53s 270ms/step - loss: 0.0453 - accuracy: 0.9832 - val_loss: 0.8216 - val_accuracy: 0.8002\n",
            "Epoch 11/50\n",
            "196/196 [==============================] - 54s 275ms/step - loss: 0.0464 - accuracy: 0.9830 - val_loss: 0.9365 - val_accuracy: 0.8075\n",
            "Epoch 12/50\n",
            "196/196 [==============================] - 52s 267ms/step - loss: 0.0378 - accuracy: 0.9861 - val_loss: 1.0578 - val_accuracy: 0.7964\n",
            "Epoch 13/50\n",
            "196/196 [==============================] - 54s 274ms/step - loss: 0.0337 - accuracy: 0.9884 - val_loss: 1.0862 - val_accuracy: 0.8076\n",
            "Epoch 14/50\n",
            "196/196 [==============================] - 52s 265ms/step - loss: 0.0292 - accuracy: 0.9895 - val_loss: 1.1476 - val_accuracy: 0.8055\n",
            "Epoch 15/50\n",
            "196/196 [==============================] - 52s 265ms/step - loss: 0.0246 - accuracy: 0.9910 - val_loss: 1.4341 - val_accuracy: 0.8009\n",
            "Epoch 16/50\n",
            "196/196 [==============================] - 52s 265ms/step - loss: 0.0326 - accuracy: 0.9889 - val_loss: 1.2509 - val_accuracy: 0.7924\n",
            "Epoch 17/50\n",
            "196/196 [==============================] - 57s 293ms/step - loss: 0.0234 - accuracy: 0.9921 - val_loss: 0.9568 - val_accuracy: 0.7991\n",
            "Epoch 18/50\n",
            "196/196 [==============================] - 54s 278ms/step - loss: 0.0245 - accuracy: 0.9913 - val_loss: 0.9997 - val_accuracy: 0.8010\n",
            "Epoch 19/50\n",
            "196/196 [==============================] - 54s 274ms/step - loss: 0.0206 - accuracy: 0.9930 - val_loss: 1.3895 - val_accuracy: 0.7918\n",
            "Epoch 20/50\n",
            "196/196 [==============================] - 53s 271ms/step - loss: 0.0207 - accuracy: 0.9925 - val_loss: 1.1513 - val_accuracy: 0.8018\n",
            "Epoch 21/50\n",
            "196/196 [==============================] - 53s 268ms/step - loss: 0.0245 - accuracy: 0.9915 - val_loss: 1.4477 - val_accuracy: 0.8006\n",
            "Epoch 22/50\n",
            "196/196 [==============================] - 54s 273ms/step - loss: 0.0182 - accuracy: 0.9934 - val_loss: 1.2952 - val_accuracy: 0.8055\n",
            "Epoch 23/50\n",
            "196/196 [==============================] - 54s 274ms/step - loss: 0.0135 - accuracy: 0.9956 - val_loss: 1.2034 - val_accuracy: 0.8008\n",
            "Epoch 24/50\n",
            "196/196 [==============================] - 54s 278ms/step - loss: 0.0183 - accuracy: 0.9937 - val_loss: 1.4263 - val_accuracy: 0.8014\n",
            "Epoch 25/50\n",
            "196/196 [==============================] - 55s 279ms/step - loss: 0.0147 - accuracy: 0.9954 - val_loss: 1.2177 - val_accuracy: 0.7998\n",
            "Epoch 26/50\n",
            "196/196 [==============================] - 55s 279ms/step - loss: 0.0181 - accuracy: 0.9930 - val_loss: 1.4294 - val_accuracy: 0.7978\n",
            "Epoch 27/50\n",
            "196/196 [==============================] - 53s 272ms/step - loss: 0.0178 - accuracy: 0.9939 - val_loss: 1.3338 - val_accuracy: 0.7873\n",
            "Epoch 28/50\n",
            "196/196 [==============================] - 54s 274ms/step - loss: 0.0146 - accuracy: 0.9949 - val_loss: 1.4132 - val_accuracy: 0.8019\n",
            "Epoch 29/50\n",
            "196/196 [==============================] - 54s 278ms/step - loss: 0.0130 - accuracy: 0.9950 - val_loss: 1.6855 - val_accuracy: 0.7944\n",
            "Epoch 30/50\n",
            "196/196 [==============================] - 54s 274ms/step - loss: 0.0114 - accuracy: 0.9962 - val_loss: 1.5917 - val_accuracy: 0.8028\n",
            "Epoch 31/50\n",
            "196/196 [==============================] - 54s 274ms/step - loss: 0.0131 - accuracy: 0.9954 - val_loss: 1.4262 - val_accuracy: 0.8020\n",
            "Epoch 32/50\n",
            "196/196 [==============================] - 55s 279ms/step - loss: 0.0096 - accuracy: 0.9969 - val_loss: 1.5787 - val_accuracy: 0.7968\n",
            "Epoch 33/50\n",
            "196/196 [==============================] - 56s 288ms/step - loss: 0.0197 - accuracy: 0.9928 - val_loss: 1.2394 - val_accuracy: 0.8045\n",
            "Epoch 34/50\n",
            "196/196 [==============================] - 53s 270ms/step - loss: 0.0166 - accuracy: 0.9944 - val_loss: 1.4318 - val_accuracy: 0.7947\n",
            "Epoch 35/50\n",
            "196/196 [==============================] - 54s 276ms/step - loss: 0.0082 - accuracy: 0.9969 - val_loss: 1.3408 - val_accuracy: 0.8035\n",
            "Epoch 36/50\n",
            "196/196 [==============================] - 54s 276ms/step - loss: 0.0113 - accuracy: 0.9961 - val_loss: 1.6337 - val_accuracy: 0.7906\n",
            "Epoch 37/50\n",
            "196/196 [==============================] - 53s 270ms/step - loss: 0.0114 - accuracy: 0.9964 - val_loss: 1.4581 - val_accuracy: 0.8020\n",
            "Epoch 38/50\n",
            "196/196 [==============================] - 52s 268ms/step - loss: 0.0136 - accuracy: 0.9953 - val_loss: 1.4511 - val_accuracy: 0.8001\n",
            "Epoch 39/50\n",
            "196/196 [==============================] - 53s 269ms/step - loss: 0.0137 - accuracy: 0.9954 - val_loss: 1.4062 - val_accuracy: 0.8017\n",
            "Epoch 40/50\n",
            "196/196 [==============================] - 53s 269ms/step - loss: 0.0083 - accuracy: 0.9975 - val_loss: 1.4984 - val_accuracy: 0.7987\n",
            "Epoch 41/50\n",
            "196/196 [==============================] - 56s 285ms/step - loss: 0.0078 - accuracy: 0.9977 - val_loss: 1.4662 - val_accuracy: 0.7980\n",
            "Epoch 42/50\n",
            "196/196 [==============================] - 53s 269ms/step - loss: 0.0108 - accuracy: 0.9963 - val_loss: 1.5855 - val_accuracy: 0.8024\n",
            "Epoch 43/50\n",
            "196/196 [==============================] - 54s 275ms/step - loss: 0.0072 - accuracy: 0.9976 - val_loss: 1.4095 - val_accuracy: 0.8021\n",
            "Epoch 44/50\n",
            "196/196 [==============================] - 53s 269ms/step - loss: 0.0069 - accuracy: 0.9974 - val_loss: 1.5700 - val_accuracy: 0.8001\n",
            "Epoch 45/50\n",
            "196/196 [==============================] - 53s 270ms/step - loss: 0.0041 - accuracy: 0.9985 - val_loss: 1.7327 - val_accuracy: 0.8025\n",
            "Epoch 46/50\n",
            "196/196 [==============================] - 54s 274ms/step - loss: 0.0084 - accuracy: 0.9974 - val_loss: 1.4782 - val_accuracy: 0.8012\n",
            "Epoch 47/50\n",
            "196/196 [==============================] - 54s 275ms/step - loss: 0.0098 - accuracy: 0.9968 - val_loss: 1.5152 - val_accuracy: 0.8002\n",
            "Epoch 48/50\n",
            "196/196 [==============================] - 53s 270ms/step - loss: 0.0081 - accuracy: 0.9974 - val_loss: 1.6698 - val_accuracy: 0.7996\n",
            "Epoch 49/50\n",
            "196/196 [==============================] - 54s 274ms/step - loss: 0.0071 - accuracy: 0.9980 - val_loss: 1.5812 - val_accuracy: 0.7986\n",
            "Epoch 50/50\n",
            "196/196 [==============================] - 55s 282ms/step - loss: 0.0073 - accuracy: 0.9974 - val_loss: 1.7640 - val_accuracy: 0.7991\n"
          ]
        }
      ]
    },
    {
      "cell_type": "code",
      "source": [
        "test_loss, test_accuracy = model.evaluate(x_test,y_test)\n",
        "print(\"Test accuracy:\",test_accuracy)"
      ],
      "metadata": {
        "colab": {
          "base_uri": "https://localhost:8080/"
        },
        "id": "SMQ7KxvnvPXW",
        "outputId": "4a9bc92e-130c-4a86-c86d-6f7b46660e02"
      },
      "execution_count": 11,
      "outputs": [
        {
          "output_type": "stream",
          "name": "stdout",
          "text": [
            "782/782 [==============================] - 19s 24ms/step - loss: 1.7640 - accuracy: 0.7991\n",
            "Test accuracy: 0.7990800142288208\n"
          ]
        }
      ]
    },
    {
      "cell_type": "code",
      "source": [
        "model = Sequential()\n",
        "model.add(Embedding(20000, 128))\n",
        "model.add(GRU(128, dropout=0.5, recurrent_dropout=0.5))\n",
        "model.add(BatchNormalization())\n",
        "model.add(Dropout(0.5))\n",
        "model.add(Dense(1, activation=\"sigmoid\"))\n"
      ],
      "metadata": {
        "id": "BlnwXnsPUNaP",
        "colab": {
          "base_uri": "https://localhost:8080/"
        },
        "outputId": "ae6ce661-227d-4c90-c481-87fdb87f57b6"
      },
      "execution_count": 12,
      "outputs": [
        {
          "output_type": "stream",
          "name": "stderr",
          "text": [
            "WARNING:tensorflow:Layer gru will not use cuDNN kernels since it doesn't meet the criteria. It will use a generic GPU kernel as fallback when running on GPU.\n"
          ]
        }
      ]
    },
    {
      "cell_type": "code",
      "source": [
        "model.compile(loss = \"binary_crossentropy\", optimizer = \"adam\", metrics= [\"accuracy\"])"
      ],
      "metadata": {
        "id": "if_nPEnyV3zq"
      },
      "execution_count": 13,
      "outputs": []
    },
    {
      "cell_type": "code",
      "source": [
        "H = model.fit(x_train,y_train,validation_data=(x_test,y_test), epochs=50, batch_size= 128)"
      ],
      "metadata": {
        "id": "sMvXOfGIV51q",
        "colab": {
          "base_uri": "https://localhost:8080/"
        },
        "outputId": "9c8c3888-5dd5-4d10-f2cd-a6305b7d45b2"
      },
      "execution_count": 14,
      "outputs": [
        {
          "output_type": "stream",
          "name": "stdout",
          "text": [
            "Epoch 1/50\n",
            "196/196 [==============================] - 63s 306ms/step - loss: 0.5562 - accuracy: 0.7058 - val_loss: 0.5236 - val_accuracy: 0.8280\n",
            "Epoch 2/50\n",
            "196/196 [==============================] - 53s 270ms/step - loss: 0.3173 - accuracy: 0.8684 - val_loss: 0.3877 - val_accuracy: 0.8271\n",
            "Epoch 3/50\n",
            "196/196 [==============================] - 51s 260ms/step - loss: 0.2258 - accuracy: 0.9119 - val_loss: 0.4740 - val_accuracy: 0.8060\n",
            "Epoch 4/50\n",
            "196/196 [==============================] - 48s 247ms/step - loss: 0.1683 - accuracy: 0.9360 - val_loss: 0.5079 - val_accuracy: 0.8176\n",
            "Epoch 5/50\n",
            "196/196 [==============================] - 49s 250ms/step - loss: 0.1261 - accuracy: 0.9532 - val_loss: 0.6827 - val_accuracy: 0.8096\n",
            "Epoch 6/50\n",
            "196/196 [==============================] - 50s 258ms/step - loss: 0.0922 - accuracy: 0.9650 - val_loss: 0.6745 - val_accuracy: 0.8053\n",
            "Epoch 7/50\n",
            "196/196 [==============================] - 50s 258ms/step - loss: 0.0691 - accuracy: 0.9750 - val_loss: 0.8293 - val_accuracy: 0.8057\n",
            "Epoch 8/50\n",
            "196/196 [==============================] - 49s 250ms/step - loss: 0.0564 - accuracy: 0.9798 - val_loss: 0.8893 - val_accuracy: 0.8038\n",
            "Epoch 9/50\n",
            "196/196 [==============================] - 48s 247ms/step - loss: 0.0438 - accuracy: 0.9839 - val_loss: 0.9875 - val_accuracy: 0.8019\n",
            "Epoch 10/50\n",
            "196/196 [==============================] - 47s 241ms/step - loss: 0.0380 - accuracy: 0.9865 - val_loss: 1.0450 - val_accuracy: 0.8012\n",
            "Epoch 11/50\n",
            "196/196 [==============================] - 49s 252ms/step - loss: 0.0287 - accuracy: 0.9897 - val_loss: 0.9772 - val_accuracy: 0.7994\n",
            "Epoch 12/50\n",
            "196/196 [==============================] - 50s 256ms/step - loss: 0.0282 - accuracy: 0.9894 - val_loss: 1.2654 - val_accuracy: 0.7979\n",
            "Epoch 13/50\n",
            "196/196 [==============================] - 48s 245ms/step - loss: 0.0260 - accuracy: 0.9898 - val_loss: 1.2351 - val_accuracy: 0.7895\n",
            "Epoch 14/50\n",
            "196/196 [==============================] - 49s 251ms/step - loss: 0.0223 - accuracy: 0.9924 - val_loss: 1.1663 - val_accuracy: 0.7978\n",
            "Epoch 15/50\n",
            "196/196 [==============================] - 49s 249ms/step - loss: 0.0224 - accuracy: 0.9917 - val_loss: 1.1436 - val_accuracy: 0.7982\n",
            "Epoch 16/50\n",
            "196/196 [==============================] - 49s 251ms/step - loss: 0.0201 - accuracy: 0.9933 - val_loss: 1.2297 - val_accuracy: 0.7958\n",
            "Epoch 17/50\n",
            "196/196 [==============================] - 52s 267ms/step - loss: 0.0172 - accuracy: 0.9944 - val_loss: 1.2174 - val_accuracy: 0.8011\n",
            "Epoch 18/50\n",
            "196/196 [==============================] - 49s 252ms/step - loss: 0.0147 - accuracy: 0.9944 - val_loss: 1.3760 - val_accuracy: 0.7988\n",
            "Epoch 19/50\n",
            "196/196 [==============================] - 49s 250ms/step - loss: 0.0144 - accuracy: 0.9947 - val_loss: 1.2612 - val_accuracy: 0.7982\n",
            "Epoch 20/50\n",
            "196/196 [==============================] - 51s 259ms/step - loss: 0.0167 - accuracy: 0.9936 - val_loss: 1.3027 - val_accuracy: 0.8001\n",
            "Epoch 21/50\n",
            "196/196 [==============================] - 51s 259ms/step - loss: 0.0143 - accuracy: 0.9949 - val_loss: 1.6626 - val_accuracy: 0.7847\n",
            "Epoch 22/50\n",
            "196/196 [==============================] - 48s 245ms/step - loss: 0.0172 - accuracy: 0.9941 - val_loss: 1.5127 - val_accuracy: 0.7892\n",
            "Epoch 23/50\n",
            "196/196 [==============================] - 50s 255ms/step - loss: 0.0130 - accuracy: 0.9952 - val_loss: 1.4575 - val_accuracy: 0.7948\n",
            "Epoch 24/50\n",
            "196/196 [==============================] - 50s 256ms/step - loss: 0.0100 - accuracy: 0.9966 - val_loss: 1.5517 - val_accuracy: 0.7970\n",
            "Epoch 25/50\n",
            "196/196 [==============================] - 48s 245ms/step - loss: 0.0098 - accuracy: 0.9965 - val_loss: 1.4687 - val_accuracy: 0.8005\n",
            "Epoch 26/50\n",
            "196/196 [==============================] - 50s 255ms/step - loss: 0.0094 - accuracy: 0.9967 - val_loss: 1.5207 - val_accuracy: 0.7944\n",
            "Epoch 27/50\n",
            "196/196 [==============================] - 48s 245ms/step - loss: 0.0116 - accuracy: 0.9956 - val_loss: 1.5038 - val_accuracy: 0.8043\n",
            "Epoch 28/50\n",
            "196/196 [==============================] - 50s 254ms/step - loss: 0.0103 - accuracy: 0.9962 - val_loss: 1.5407 - val_accuracy: 0.8040\n",
            "Epoch 29/50\n",
            "196/196 [==============================] - 50s 255ms/step - loss: 0.0085 - accuracy: 0.9974 - val_loss: 1.6466 - val_accuracy: 0.7951\n",
            "Epoch 30/50\n",
            "196/196 [==============================] - 50s 253ms/step - loss: 0.0102 - accuracy: 0.9968 - val_loss: 1.6544 - val_accuracy: 0.8030\n",
            "Epoch 31/50\n",
            "196/196 [==============================] - 49s 251ms/step - loss: 0.0093 - accuracy: 0.9968 - val_loss: 1.5881 - val_accuracy: 0.8023\n",
            "Epoch 32/50\n",
            "196/196 [==============================] - 47s 242ms/step - loss: 0.0082 - accuracy: 0.9972 - val_loss: 1.6503 - val_accuracy: 0.7950\n",
            "Epoch 33/50\n",
            "196/196 [==============================] - 49s 252ms/step - loss: 0.0085 - accuracy: 0.9972 - val_loss: 1.5846 - val_accuracy: 0.8007\n",
            "Epoch 34/50\n",
            "196/196 [==============================] - 50s 256ms/step - loss: 0.0102 - accuracy: 0.9960 - val_loss: 1.8907 - val_accuracy: 0.7910\n",
            "Epoch 35/50\n",
            "196/196 [==============================] - 53s 269ms/step - loss: 0.0069 - accuracy: 0.9976 - val_loss: 1.6384 - val_accuracy: 0.7998\n",
            "Epoch 36/50\n",
            "196/196 [==============================] - 49s 249ms/step - loss: 0.0047 - accuracy: 0.9984 - val_loss: 1.5674 - val_accuracy: 0.8006\n",
            "Epoch 37/50\n",
            "196/196 [==============================] - 49s 249ms/step - loss: 0.0067 - accuracy: 0.9976 - val_loss: 1.5452 - val_accuracy: 0.7967\n",
            "Epoch 38/50\n",
            "196/196 [==============================] - 49s 250ms/step - loss: 0.0051 - accuracy: 0.9980 - val_loss: 2.1767 - val_accuracy: 0.7920\n",
            "Epoch 39/50\n",
            "196/196 [==============================] - 49s 248ms/step - loss: 0.0075 - accuracy: 0.9972 - val_loss: 1.7572 - val_accuracy: 0.8009\n",
            "Epoch 40/50\n",
            "196/196 [==============================] - 49s 250ms/step - loss: 0.0062 - accuracy: 0.9979 - val_loss: 2.0140 - val_accuracy: 0.7940\n",
            "Epoch 41/50\n",
            "196/196 [==============================] - 48s 247ms/step - loss: 0.0082 - accuracy: 0.9971 - val_loss: 1.7603 - val_accuracy: 0.8013\n",
            "Epoch 42/50\n",
            "196/196 [==============================] - 48s 247ms/step - loss: 0.0055 - accuracy: 0.9978 - val_loss: 1.7034 - val_accuracy: 0.8022\n",
            "Epoch 43/50\n",
            "196/196 [==============================] - 48s 245ms/step - loss: 0.0066 - accuracy: 0.9976 - val_loss: 1.7536 - val_accuracy: 0.7998\n",
            "Epoch 44/50\n",
            "196/196 [==============================] - 55s 281ms/step - loss: 0.0090 - accuracy: 0.9969 - val_loss: 1.6795 - val_accuracy: 0.8029\n",
            "Epoch 45/50\n",
            "196/196 [==============================] - 52s 263ms/step - loss: 0.0072 - accuracy: 0.9975 - val_loss: 1.7883 - val_accuracy: 0.7994\n",
            "Epoch 46/50\n",
            "196/196 [==============================] - 50s 254ms/step - loss: 0.0059 - accuracy: 0.9980 - val_loss: 1.7170 - val_accuracy: 0.8021\n",
            "Epoch 47/50\n",
            "196/196 [==============================] - 49s 250ms/step - loss: 0.0079 - accuracy: 0.9973 - val_loss: 1.8336 - val_accuracy: 0.7943\n",
            "Epoch 48/50\n",
            "196/196 [==============================] - 48s 247ms/step - loss: 0.0069 - accuracy: 0.9978 - val_loss: 1.5956 - val_accuracy: 0.8026\n",
            "Epoch 49/50\n",
            "196/196 [==============================] - 48s 247ms/step - loss: 0.0045 - accuracy: 0.9983 - val_loss: 1.8783 - val_accuracy: 0.8004\n",
            "Epoch 50/50\n",
            "196/196 [==============================] - 47s 242ms/step - loss: 0.0053 - accuracy: 0.9981 - val_loss: 1.7345 - val_accuracy: 0.8031\n"
          ]
        }
      ]
    },
    {
      "cell_type": "code",
      "source": [
        "test_loss, test_accuracy = model.evaluate(x_test,y_test)\n",
        "print(\"Test accuracy:\",test_accuracy)"
      ],
      "metadata": {
        "id": "8MrgA2_BV8qv",
        "colab": {
          "base_uri": "https://localhost:8080/"
        },
        "outputId": "55962503-05d0-4fc9-b3ed-3bc65ecfc412"
      },
      "execution_count": 15,
      "outputs": [
        {
          "output_type": "stream",
          "name": "stdout",
          "text": [
            "782/782 [==============================] - 19s 24ms/step - loss: 1.7345 - accuracy: 0.8031\n",
            "Test accuracy: 0.8030800223350525\n"
          ]
        }
      ]
    },
    {
      "cell_type": "code",
      "source": [],
      "metadata": {
        "id": "LVgO61XAvd0D"
      },
      "execution_count": null,
      "outputs": []
    }
  ]
}